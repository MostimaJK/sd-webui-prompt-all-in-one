{
 "cells": [
  {
   "cell_type": "code",
   "execution_count": 1,
   "id": "initial_id",
   "metadata": {
    "ExecuteTime": {
     "end_time": "2024-01-31T07:28:52.623292800Z",
     "start_time": "2024-01-31T07:28:42.392430400Z"
    },
    "collapsed": true
   },
   "outputs": [],
   "source": [
    "# 使输出进度保持在同一行\n",
    "import time\n",
    "\n",
    "X = 1000\n",
    "for i in range(X):\n",
    "    print(f'{i + 1}/ {X}', end='\\r') \n",
    "    time.sleep(0.01)"
   ]
  },
  {
   "cell_type": "code",
   "execution_count": 10,
   "id": "56f1c9c8851704dd",
   "metadata": {
    "ExecuteTime": {
     "end_time": "2024-01-31T07:36:29.547199900Z",
     "start_time": "2024-01-31T07:35:30.992986400Z"
    },
    "collapsed": false
   },
   "outputs": [
    {
     "name": "stdout",
     "output_type": "stream",
     "text": [
      "进度 |■■■■■■■■■■■■■■■■■■■■■■■■■■■■■■■■■■■■■■■■■■■■■■■■■■| 100%\r"
     ]
    }
   ],
   "source": [
    "# 手动实现进度条\n",
    "import time\n",
    "\n",
    "X = 10000\n",
    "for i in range(X):\n",
    "    for j in range(X):\n",
    "        k =  j * i\n",
    "    print('进度', \n",
    "          f'|{\"■\" * ((i+1)* 50 // X):50}|', \n",
    "          f'{(i+1)* 100 // X}%',\n",
    "          end='\\r')\n",
    "    time.sleep(0.005)"
   ]
  },
  {
   "cell_type": "code",
   "execution_count": null,
   "id": "d4f9c99577236c5c",
   "metadata": {
    "collapsed": false
   },
   "outputs": [],
   "source": [
    "# 运用progerssbar库实现进度条\n",
    "from progressbar import Bar\n",
    "\n"
   ]
  },
  {
   "cell_type": "code",
   "execution_count": 11,
   "id": "cd35c2f991c177f",
   "metadata": {
    "ExecuteTime": {
     "end_time": "2024-01-31T07:37:57.760313400Z",
     "start_time": "2024-01-31T07:36:59.580820Z"
    },
    "collapsed": false
   },
   "outputs": [
    {
     "name": "stderr",
     "output_type": "stream",
     "text": [
      "100%|██████████| 10000/10000 [00:58<00:00, 171.97it/s]\n"
     ]
    }
   ],
   "source": [
    "# 运用tqdm库实现进度条\n",
    "from tqdm import tqdm\n",
    "\n",
    "X = 10000\n",
    "for i in tqdm(range(X)):\n",
    "    for j in range(X):\n",
    "        k =  j * i\n",
    "    time.sleep(0.005)"
   ]
  },
  {
   "cell_type": "code",
   "execution_count": 13,
   "id": "64b350a2558a1621",
   "metadata": {
    "ExecuteTime": {
     "end_time": "2024-01-31T07:39:12.488442900Z",
     "start_time": "2024-01-31T07:38:11.683079100Z"
    },
    "collapsed": false
   },
   "outputs": [
    {
     "data": {
      "application/vnd.jupyter.widget-view+json": {
       "model_id": "d59ce3e292794c218bffe91e1d160506",
       "version_major": 2,
       "version_minor": 0
      },
      "text/plain": [
       "  0%|          | 0/10000 [00:00<?, ?it/s]"
      ]
     },
     "metadata": {},
     "output_type": "display_data"
    }
   ],
   "source": [
    "# 运用tqdm库实现进度条\n",
    "# 在jupyter notebook中使用，优化显示\n",
    "from tqdm.notebook import tqdm\n",
    "\n",
    "X = 10000\n",
    "for i in tqdm(range(X)):\n",
    "    for j in range(X):\n",
    "        k =  j * i\n",
    "    time.sleep(0.005)"
   ]
  },
  {
   "cell_type": "code",
   "execution_count": 21,
   "id": "d058c486388ff953",
   "metadata": {
    "ExecuteTime": {
     "end_time": "2024-01-31T08:19:00.142749Z",
     "start_time": "2024-01-31T08:18:01.732091100Z"
    },
    "collapsed": false
   },
   "outputs": [
    {
     "data": {
      "application/vnd.jupyter.widget-view+json": {
       "model_id": "0c2b369986d54cffbd99e17563c730e2",
       "version_major": 2,
       "version_minor": 0
      },
      "text/plain": [
       "Output()"
      ]
     },
     "metadata": {},
     "output_type": "display_data"
    },
    {
     "name": "stderr",
     "output_type": "stream",
     "text": [
      "C:\\Users\\JACKY\\AppData\\Local\\Temp\\ipykernel_9536\\43674714.py:6: TqdmExperimentalWarning: rich is experimental/alpha\n",
      "  for i in tqdm(range(X)):\n"
     ]
    },
    {
     "data": {
      "text/html": [
       "<pre style=\"white-space:pre;overflow-x:auto;line-height:normal;font-family:Menlo,'DejaVu Sans Mono',consolas,'Courier New',monospace\"></pre>\n"
      ],
      "text/plain": []
     },
     "metadata": {},
     "output_type": "display_data"
    },
    {
     "data": {
      "text/html": [
       "<pre style=\"white-space:pre;overflow-x:auto;line-height:normal;font-family:Menlo,'DejaVu Sans Mono',consolas,'Courier New',monospace\">\n",
       "</pre>\n"
      ],
      "text/plain": [
       "\n"
      ]
     },
     "metadata": {},
     "output_type": "display_data"
    }
   ],
   "source": [
    "# 运用tqdm库实现进度条\n",
    "# 彩色进度条\n",
    "from tqdm.rich import tqdm\n",
    "\n",
    "X = 10000\n",
    "for i in tqdm(range(X)):\n",
    "    for j in range(X):\n",
    "        k =  j * i\n",
    "    time.sleep(0.005)"
   ]
  },
  {
   "cell_type": "code",
   "execution_count": 20,
   "id": "5e6242d016f547aa",
   "metadata": {
    "ExecuteTime": {
     "end_time": "2024-01-31T08:16:36.425720400Z",
     "start_time": "2024-01-31T08:15:37.353889500Z"
    },
    "collapsed": false
   },
   "outputs": [
    {
     "name": "stderr",
     "output_type": "stream",
     "text": [
      "C:\\Users\\JACKY\\AppData\\Local\\Temp\\ipykernel_9536\\2657001924.py:6: TqdmExperimentalWarning: GUI is experimental/alpha\n",
      "  for i in tqdm(range(X)):\n"
     ]
    }
   ],
   "source": [
    "# 运用tqdm库实现进度条\n",
    "# 基于tkinter的弹窗进度条\n",
    "from tqdm.tk import tqdm\n",
    "\n",
    "X = 10000\n",
    "for i in tqdm(range(X)):\n",
    "    for j in range(X):\n",
    "        k =  j * i\n",
    "    time.sleep(0.005)"
   ]
  },
  {
   "cell_type": "code",
   "execution_count": 19,
   "id": "4aeefdacc0d17c0d",
   "metadata": {
    "ExecuteTime": {
     "end_time": "2024-01-31T08:12:55.372006700Z",
     "start_time": "2024-01-31T08:12:45.280519Z"
    },
    "collapsed": false
   },
   "outputs": [
    {
     "data": {
      "application/vnd.jupyter.widget-view+json": {
       "model_id": "2eefe97a72df41f99ecc0ae041dd1fd5",
       "version_major": 2,
       "version_minor": 0
      },
      "text/plain": [
       "  0%|          | 0/100 [00:00<?, ?it/s]"
      ]
     },
     "metadata": {},
     "output_type": "display_data"
    }
   ],
   "source": [
    "from tqdm.notebook import tqdm\n",
    "\n",
    "bar = tqdm(total=100)\n",
    "\n",
    "for i in range(100):\n",
    "    # 手动更新进度条\n",
    "    bar.update(1)\n",
    "    time.sleep(0.1)"
   ]
  },
  {
   "cell_type": "code",
   "execution_count": 17,
   "id": "f1bf604916accfff",
   "metadata": {
    "ExecuteTime": {
     "end_time": "2024-01-31T07:49:16.878806700Z",
     "start_time": "2024-01-31T07:49:10.040044800Z"
    },
    "collapsed": false
   },
   "outputs": [
    {
     "name": "stderr",
     "output_type": "stream",
     "text": [
      "C:\\Users\\JACKY\\AppData\\Local\\Temp\\ipykernel_9536\\1552996960.py:3: TqdmExperimentalWarning: GUI is experimental/alpha\n",
      "  bar = tqdm_gui(total=100)\n"
     ]
    },
    {
     "data": {
      "image/png": "[encoded data removed]",
      "text/plain": [
       "<Figure size 900x220 with 1 Axes>"
      ]
     },
     "metadata": {},
     "output_type": "display_data"
    },
    {
     "ename": "KeyboardInterrupt",
     "evalue": "",
     "output_type": "error",
     "traceback": [
      "\u001b[1;31m---------------------------------------------------------------------------\u001b[0m",
      "\u001b[1;31mKeyboardInterrupt\u001b[0m                         Traceback (most recent call last)",
      "Cell \u001b[1;32mIn[17], line 8\u001b[0m\n\u001b[0;32m      5\u001b[0m \u001b[38;5;28;01mfor\u001b[39;00m i \u001b[38;5;129;01min\u001b[39;00m \u001b[38;5;28mrange\u001b[39m(\u001b[38;5;241m100\u001b[39m):\n\u001b[0;32m      6\u001b[0m     \u001b[38;5;66;03m# 手动更新进度条\u001b[39;00m\n\u001b[0;32m      7\u001b[0m     bar\u001b[38;5;241m.\u001b[39mupdate(\u001b[38;5;241m1\u001b[39m)\n\u001b[1;32m----> 8\u001b[0m     time\u001b[38;5;241m.\u001b[39msleep(\u001b[38;5;241m0.1\u001b[39m)\n",
      "\u001b[1;31mKeyboardInterrupt\u001b[0m: "
     ]
    }
   ],
   "source": [
    "from tqdm.gui import tqdm as tqdm_gui\n",
    "\n",
    "bar = tqdm_gui(total=100)\n",
    "\n",
    "for i in range(100):\n",
    "    # 手动更新进度条\n",
    "    bar.update(1)\n",
    "    time.sleep(0.1)"
   ]
  },
  {
   "cell_type": "code",
   "execution_count": 18,
   "id": "efa98eb050e9fb6f",
   "metadata": {
    "ExecuteTime": {
     "end_time": "2024-01-31T07:50:54.422098300Z",
     "start_time": "2024-01-31T07:50:54.312736200Z"
    },
    "collapsed": false
   },
   "outputs": [
    {
     "ename": "UserWarning",
     "evalue": "This must be run on a tty connected terminal.",
     "output_type": "error",
     "traceback": [
      "\u001b[1;31m---------------------------------------------------------------------------\u001b[0m",
      "\u001b[1;31mUserWarning\u001b[0m                               Traceback (most recent call last)",
      "Cell \u001b[1;32mIn[18], line 3\u001b[0m\n\u001b[0;32m      1\u001b[0m \u001b[38;5;28;01mfrom\u001b[39;00m \u001b[38;5;21;01malive_progress\u001b[39;00m \u001b[38;5;28;01mimport\u001b[39;00m alive_bar\n\u001b[0;32m      2\u001b[0m \u001b[38;5;28;01mfrom\u001b[39;00m \u001b[38;5;21;01malive_progress\u001b[39;00m\u001b[38;5;21;01m.\u001b[39;00m\u001b[38;5;21;01mstyles\u001b[39;00m \u001b[38;5;28;01mimport\u001b[39;00m showtime\n\u001b[1;32m----> 3\u001b[0m \u001b[43mshowtime\u001b[49m\u001b[43m(\u001b[49m\u001b[43m)\u001b[49m\n",
      "File \u001b[1;32m~\\AppData\\Local\\Programs\\Python\\Python311\\Lib\\site-packages\\alive_progress\\styles\\exhibit.py:36\u001b[0m, in \u001b[0;36mshowtime\u001b[1;34m(show, fps, length, pattern)\u001b[0m\n\u001b[0;32m     29\u001b[0m show_funcs \u001b[38;5;241m=\u001b[39m {\n\u001b[0;32m     30\u001b[0m     Show\u001b[38;5;241m.\u001b[39mSPINNERS: show_spinners,\n\u001b[0;32m     31\u001b[0m     Show\u001b[38;5;241m.\u001b[39mBARS: show_bars,\n\u001b[0;32m     32\u001b[0m     Show\u001b[38;5;241m.\u001b[39mTHEMES: show_themes,\n\u001b[0;32m     33\u001b[0m }\n\u001b[0;32m     34\u001b[0m \u001b[38;5;28;01massert\u001b[39;00m show \u001b[38;5;129;01min\u001b[39;00m show_funcs, \u001b[38;5;124m'\u001b[39m\u001b[38;5;124mWhich show do you want? We have Show.SPINNERS, Show.BARS, and \u001b[39m\u001b[38;5;124m'\u001b[39m \\\n\u001b[0;32m     35\u001b[0m                            \u001b[38;5;124m'\u001b[39m\u001b[38;5;124mShow.THEMES.\u001b[39m\u001b[38;5;124m'\u001b[39m\n\u001b[1;32m---> 36\u001b[0m \u001b[43mshow_funcs\u001b[49m\u001b[43m[\u001b[49m\u001b[43mshow\u001b[49m\u001b[43m]\u001b[49m\u001b[43m(\u001b[49m\u001b[43mfps\u001b[49m\u001b[38;5;241;43m=\u001b[39;49m\u001b[43mfps\u001b[49m\u001b[43m,\u001b[49m\u001b[43m \u001b[49m\u001b[43mlength\u001b[49m\u001b[38;5;241;43m=\u001b[39;49m\u001b[43mlength\u001b[49m\u001b[43m,\u001b[49m\u001b[43m \u001b[49m\u001b[43mpattern\u001b[49m\u001b[38;5;241;43m=\u001b[39;49m\u001b[43mpattern\u001b[49m\u001b[43m)\u001b[49m\n",
      "File \u001b[1;32m~\\AppData\\Local\\Programs\\Python\\Python311\\Lib\\site-packages\\alive_progress\\styles\\exhibit.py:70\u001b[0m, in \u001b[0;36mshow_spinners\u001b[1;34m(fps, length, pattern)\u001b[0m\n\u001b[0;32m     54\u001b[0m gens \u001b[38;5;241m=\u001b[39m [_spinner_gen(\u001b[38;5;124mf\u001b[39m\u001b[38;5;124m'\u001b[39m\u001b[38;5;132;01m{\u001b[39;00mk\u001b[38;5;132;01m:\u001b[39;00m\u001b[38;5;124m^\u001b[39m\u001b[38;5;132;01m{\u001b[39;00mmax_name_length\u001b[38;5;132;01m}\u001b[39;00m\u001b[38;5;132;01m}\u001b[39;00m\u001b[38;5;124m'\u001b[39m, s, max_natural) \u001b[38;5;28;01mfor\u001b[39;00m k, s \u001b[38;5;129;01min\u001b[39;00m selected\u001b[38;5;241m.\u001b[39mitems()]\n\u001b[0;32m     55\u001b[0m info \u001b[38;5;241m=\u001b[39m Info(\n\u001b[0;32m     56\u001b[0m     title\u001b[38;5;241m=\u001b[39m(\u001b[38;5;124m'\u001b[39m\u001b[38;5;124mSpinners\u001b[39m\u001b[38;5;124m'\u001b[39m, \u001b[38;5;124m'\u001b[39m\u001b[38;5;124mincluding their unknown bar renditions\u001b[39m\u001b[38;5;124m'\u001b[39m),\n\u001b[0;32m     57\u001b[0m     descr\u001b[38;5;241m=\u001b[39m(\u001b[38;5;124m'\u001b[39m\u001b[38;5;124mSpinners generate and run fluid animations, with a plethora of special effects,\u001b[39m\u001b[38;5;124m'\u001b[39m\n\u001b[1;32m   (...)\u001b[0m\n\u001b[0;32m     68\u001b[0m           \u001b[38;5;124m'\u001b[39m\u001b[38;5;124mA spinner have a specific \u001b[39m\u001b[38;5;124m\"\u001b[39m\u001b[38;5;124mnatural\u001b[39m\u001b[38;5;124m\"\u001b[39m\u001b[38;5;124m length, and know how to spread its contents over\u001b[39m\u001b[38;5;124m'\u001b[39m\n\u001b[0;32m     69\u001b[0m           \u001b[38;5;124m'\u001b[39m\u001b[38;5;124m any desired space.\u001b[39m\u001b[38;5;124m'\u001b[39m,))\n\u001b[1;32m---> 70\u001b[0m \u001b[43m_showtime_gen\u001b[49m\u001b[43m(\u001b[49m\u001b[43mfps\u001b[49m\u001b[43m,\u001b[49m\u001b[43m \u001b[49m\u001b[43mgens\u001b[49m\u001b[43m,\u001b[49m\u001b[43m \u001b[49m\u001b[43minfo\u001b[49m\u001b[43m,\u001b[49m\u001b[43m \u001b[49m\u001b[43mlength\u001b[49m\u001b[43m)\u001b[49m\n",
      "File \u001b[1;32m~\\AppData\\Local\\Programs\\Python\\Python311\\Lib\\site-packages\\alive_progress\\styles\\exhibit.py:139\u001b[0m, in \u001b[0;36m_showtime_gen\u001b[1;34m(fps, gens, info, length)\u001b[0m\n\u001b[0;32m    137\u001b[0m \u001b[38;5;28;01mdef\u001b[39;00m \u001b[38;5;21m_showtime_gen\u001b[39m(fps, gens, info, length):\n\u001b[0;32m    138\u001b[0m     \u001b[38;5;28;01mif\u001b[39;00m \u001b[38;5;129;01mnot\u001b[39;00m sys\u001b[38;5;241m.\u001b[39mstdout\u001b[38;5;241m.\u001b[39misatty():\n\u001b[1;32m--> 139\u001b[0m         \u001b[38;5;28;01mraise\u001b[39;00m \u001b[38;5;167;01mUserWarning\u001b[39;00m(\u001b[38;5;124m'\u001b[39m\u001b[38;5;124mThis must be run on a tty connected terminal.\u001b[39m\u001b[38;5;124m'\u001b[39m)\n\u001b[0;32m    141\u001b[0m     \u001b[38;5;28;01mdef\u001b[39;00m \u001b[38;5;21mtitle\u001b[39m(t, r\u001b[38;5;241m=\u001b[39m\u001b[38;5;28;01mFalse\u001b[39;00m):\n\u001b[0;32m    142\u001b[0m         \u001b[38;5;28;01mreturn\u001b[39;00m scrolling_spinner_factory(t, right\u001b[38;5;241m=\u001b[39mr, wrap\u001b[38;5;241m=\u001b[39m\u001b[38;5;28;01mFalse\u001b[39;00m)\u001b[38;5;241m.\u001b[39mpause(center\u001b[38;5;241m=\u001b[39m\u001b[38;5;241m12\u001b[39m),  \u001b[38;5;66;03m# 1-tuple.\u001b[39;00m\n",
      "\u001b[1;31mUserWarning\u001b[0m: This must be run on a tty connected terminal."
     ]
    }
   ],
   "source": [
    "from alive_progress import alive_bar\n",
    "from alive_progress.styles import showtime\n",
    "showtime()"
   ]
  },
  {
   "cell_type": "code",
   "execution_count": null,
   "id": "766363b67d225eee",
   "metadata": {
    "collapsed": false
   },
   "outputs": [],
   "source": []
  }
 ],
 "metadata": {
  "kernelspec": {
   "display_name": "Python 3",
   "language": "python",
   "name": "python3"
  },
  "language_info": {
   "codemirror_mode": {
    "name": "ipython",
    "version": 3
   },
   "file_extension": ".py",
   "mimetype": "text/x-python",
   "name": "python",
   "nbconvert_exporter": "python",
   "pygments_lexer": "ipython3",
   "version": "3.11.6"
  }
 },
 "nbformat": 4,
 "nbformat_minor": 5
}
